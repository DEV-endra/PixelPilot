{
 "cells": [
  {
   "cell_type": "code",
   "execution_count": null,
   "metadata": {
    "vscode": {
     "languageId": "plaintext"
    }
   },
   "outputs": [],
   "source": [
    "from mss import mss    # mss used for screen capture\n",
    "import pydirectinput   # sending commands\n",
    "import cv2             # open cv for frame processing\n",
    "import numpy as np \n",
    "import pytesseract     # FOR OPTICAL CHARACTER RECOGNITION\n",
    "from matplotlib import pyplot as plt\n",
    "import time \n",
    "from gymnasium import spaces\n",
    "from gymnasium import Env\n",
    "from PIL import Image\n",
    "from gym.spaces import Box, Discrete\n",
    "import cv2\n",
    "import numpy as np\n",
    "from stable_baselines3.common import env_checker\n",
    "from game_env import WebGame\n",
    "\n",
    "env = WebGame()\n",
    "obs=env.get_observation()\n",
    "\n",
    "# plt.imshow(cv2.cvtColor(obs[0], cv2.COLOR_GRAY2BGR))    #for gray scale\n",
    "plt.imshow(cv2.cvtColor(obs.transpose(1, 2, 0), cv2.COLOR_BGR2RGB))\n",
    "\n",
    "done, done_cap = env.get_done()   \n",
    "done                  #game ends condition\n",
    "\n",
    "for episode in range(2): \n",
    "    obs = env.reset()\n",
    "    done = False  \n",
    "    total_reward = 0\n",
    "    while not done: \n",
    "        obs, reward, done,_,info =  env.step(env.action_space.sample())\n",
    "        total_reward  += reward    \n",
    "    print('Total Reward for episode {} is {}'.format(episode, total_reward))  \n",
    "\n",
    "env_checker.check_env(env)  "
   ]
  }
 ],
 "metadata": {
  "language_info": {
   "name": "python"
  }
 },
 "nbformat": 4,
 "nbformat_minor": 2
}
